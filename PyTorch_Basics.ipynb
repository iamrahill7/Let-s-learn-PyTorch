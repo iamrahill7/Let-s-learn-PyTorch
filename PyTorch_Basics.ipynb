{
  "nbformat": 4,
  "nbformat_minor": 0,
  "metadata": {
    "colab": {
      "provenance": [],
      "gpuType": "T4",
      "authorship_tag": "ABX9TyP0qofwgefZss0m33UA7Gji",
      "include_colab_link": true
    },
    "kernelspec": {
      "name": "python3",
      "display_name": "Python 3"
    },
    "language_info": {
      "name": "python"
    },
    "accelerator": "GPU"
  },
  "cells": [
    {
      "cell_type": "markdown",
      "metadata": {
        "id": "view-in-github",
        "colab_type": "text"
      },
      "source": [
        "<a href=\"https://colab.research.google.com/github/iamrahill7/Let-s-learn-PyTorch/blob/main/PyTorch_Basics.ipynb\" target=\"_parent\"><img src=\"https://colab.research.google.com/assets/colab-badge.svg\" alt=\"Open In Colab\"/></a>"
      ]
    },
    {
      "cell_type": "markdown",
      "source": [
        "# Introduction to PyTorch"
      ],
      "metadata": {
        "id": "k_CqDqgkGTcP"
      }
    },
    {
      "cell_type": "markdown",
      "source": [
        "## History of PyTorch\n",
        "\n",
        "* In 2002, **Torch** was introduced as a tool for performing complex mathematical operations on GPUs. It was mainly designed for researchers who needed a powerful framework for scientific computing.\n",
        "* AlexNet, Facebook’s DeepFace and several other early deep learning models were initially developed using Torch.\n",
        "\n",
        "However, Torch had two big problems:  \n",
        "\n",
        "1. **Lua based programming:**\n",
        "\n",
        "  * It used **Lua**, a programming language that was not very popular compared to Python.  \n",
        "\n",
        "  * Developers had to learn Lua language to build applications, which made it difficult for many people to use.  \n",
        "\n",
        "  * Meta AI (formerly Facebook) saw that Torch was excellent at handling **tensor-based operations** (which are essential for deep learning). But since Lua was a barrier, they decided to create a library that combined Torch’s power with the ease of Python.  \n",
        "\n",
        "  * This led to the birth of **PyTorch**—a Python-friendly version of Torch that made deep learning more accessible and widely adopted."
      ],
      "metadata": {
        "id": "gsonM0wgGTB6"
      }
    },
    {
      "cell_type": "code",
      "execution_count": null,
      "metadata": {
        "id": "hKyxPGkvGSD5"
      },
      "outputs": [],
      "source": []
    },
    {
      "cell_type": "markdown",
      "source": [
        "## 🤔 Why PyTorch?\n",
        "\n",
        "\n",
        "PyTorch became popular because it made deep learning easier, faster, and more flexible compared to older frameworks like Torch (Lua-based) and even TensorFlow (before TF 2.0).\n",
        "\n",
        "It provides three major advantages:\n",
        "\n",
        "  - **Tensor Computation** – Handles numerical data efficiently.\n",
        "\n",
        "  - **GPU Acceleration** – Uses GPUs to speed up processing. PyTorch allows us to move tensor operations to the GPU, which processes them much faster.\n",
        "\n",
        "  - **Dynamic Computation Graph** – Makes model development more flexible and intuitive. *(In the upcoming chapters, I’ve included coded examples for this concept. Be sure to check them out for a deeper understanding!)*"
      ],
      "metadata": {
        "id": "mRsRGwTzHtI7"
      }
    },
    {
      "cell_type": "code",
      "source": [],
      "metadata": {
        "id": "Ac4oQmyfJkfl"
      },
      "execution_count": null,
      "outputs": []
    },
    {
      "cell_type": "markdown",
      "source": [
        "### **PyTorch vs TensorFlow: Key Differences**  \n",
        "\n",
        "### *Which one you should use?*\n",
        "\n",
        "\n",
        "| Feature            | **PyTorch** 🔵 | **TensorFlow** 🟠 |\n",
        "|-------------------|--------------|----------------|\n",
        "| **Ease of Use** | Simple, Pythonic, beginner-friendly | More complex, but improved in TF 2.0 |\n",
        "| **Computation Graph** | **Dynamic** (built on the fly, easy to debug) | **Static (TF 1.x)** & **Dynamic (TF 2.0)** |\n",
        "| **Debugging** | Easy (uses eager execution) | Harder, requires `tf.function` for optimization |\n",
        "| **Performance** | Faster in research, slightly slower in deployment | Optimized for large-scale production & inference |\n",
        "| **Deployment** | TorchServe (not as optimized) | **TensorFlow Serving, TensorFlow Lite, TensorFlow.js** |\n",
        "| **Industry Adoption** | More common in **academia & research** | More common in **industry & production** |\n",
        "| **GPU/TPU Support** | Strong GPU support, but TPU support is limited | Optimized for **GPUs & TPUs** |\n",
        "| **Mobile & Edge AI** | Less support for mobile devices | Better support (**TensorFlow Lite**) |\n",
        "| **Backed By** | Meta AI (Facebook) | Google |\n",
        "| **Community & Learning** | Popular in **research & AI papers** | Popular in **companies & large-scale AI i.e for deployment and production-level AI systems** |\n",
        "\n",
        "### **Which One Should You Learn?**  \n",
        "| **Goal** | **Recommended Framework** |\n",
        "|---------|------------------------|\n",
        "| **Beginner-friendly learning** | ✅ PyTorch |\n",
        "| **Research & AI experiments** | ✅ PyTorch |\n",
        "| **Large-scale production** | ✅ TensorFlow |\n",
        "| **Mobile & Edge AI** | ✅ TensorFlow |\n",
        "| **Industry Jobs** | ✅ TensorFlow (but knowing both helps) |\n",
        "\n",
        "🚀 **Final Recommendation:** Start with **PyTorch** (easier), then learn **TensorFlow** if needed for deployment."
      ],
      "metadata": {
        "id": "HEMUdg5CK_KM"
      }
    },
    {
      "cell_type": "markdown",
      "source": [
        "#### Note:\n",
        "\n",
        "Writing code in **Keras (for TensorFlow) is easier** compared to raw TensorFlow, and **PyTorch is also easy to use**.  \n",
        "\n",
        "### **Why?**  \n",
        "✅ **Keras (for TensorFlow)** → Provides a **high-level API**, making it easier to build and train deep learning models with fewer lines of code.  \n",
        "✅ **PyTorch** → Feels more like standard Python, making it intuitive and beginner-friendly.  \n",
        "\n",
        "📌 **Keras (TF) and PyTorch both simplify deep learning**, but **Keras is best for TensorFlow users**, while **PyTorch is best for research and experimentation**."
      ],
      "metadata": {
        "id": "n2WmU1drNJ8G"
      }
    },
    {
      "cell_type": "code",
      "source": [],
      "metadata": {
        "id": "9Waan-TnLIFW"
      },
      "execution_count": null,
      "outputs": []
    },
    {
      "cell_type": "code",
      "source": [],
      "metadata": {
        "id": "ZbJbRvXqEzMW"
      },
      "execution_count": null,
      "outputs": []
    },
    {
      "cell_type": "markdown",
      "source": [
        "---\n",
        "\n",
        "## **What is a Tensor?**  \n",
        "\n",
        "* A **tensor** is a **multi-dimensional array** used in deep learning and machine learning.\n",
        "* It is similar to **arrays (NumPy)** or **matrices**, but it can have more dimensions.  \n",
        "\n",
        "\n",
        "\n",
        "\n",
        "---\n",
        "\n",
        "\n",
        "## **Types of Tensors (Scalar to 5D)**  \n",
        "\n",
        "| **Tensor Type** | **Shape** | **Example** | **Usage** |\n",
        "|---------------|---------|---------|---------|\n",
        "| **Scalar (0D Tensor)** | `[]` | `5` | **Single number** (e.g., temperature, loss value) |\n",
        "| **1D Tensor (Vector)** | `[N]` | `[5, 10, 15]` | **List of numbers** (e.g., features of a single data point) |\n",
        "| **2D Tensor (Matrix)** | `[N, M]` | `[[1, 2], [3, 4]]` | **Matrix** (e.g., grayscale image, tabular data (rows & columns)) |\n",
        "| **3D Tensor** | `[N, M, P]` | `[[[1,2],[3,4]],[[5,6],[7,8]]]` | **RGB Image** (Height × Width × Channels) |\n",
        "| **4D Tensor** | `[Batch, Channels, Height, Width]` | `shape=[32, 3, 224, 224]` | **A batch of images processed together** (used in CNNs) |\n",
        "| **5D Tensor** | `[Batch, Depth, Channels, Height, Width]` | `shape=[8, 10, 3, 224, 224]` | **A batch of videos (sequences of images)** |\n",
        "\n",
        "---\n"
      ],
      "metadata": {
        "id": "vQToabzOEzmm"
      }
    },
    {
      "cell_type": "code",
      "source": [],
      "metadata": {
        "id": "tGEAQJCVEzJL"
      },
      "execution_count": null,
      "outputs": []
    },
    {
      "cell_type": "markdown",
      "source": [
        "---\n",
        "### **Why Do We Use Tensors?**  \n",
        "\n",
        "\n",
        "\n",
        "## **Why Do We Need Tensors Instead of Arrays?**  \n",
        "\n",
        "### **1. Tensors Work with GPUs for Faster Computation**  \n",
        "- Machine learning tasks involve **millions or even billions of calculations**.  \n",
        "- Running operations on a **GPU** makes computations significantly faster.  \n",
        "- **NumPy arrays do not support this**, but tensors are optimized for GPU acceleration.  \n",
        "- GPUs have multiple cores, allowing for parallel processing—handling multiple calculations at the same time instead of sequentially.\n",
        "- This is crucial for deep learning, where large datasets and complex models require high-speed computations. 🚀\n",
        "\n",
        "### **2. Tensors Represent Real-World Data Efficiently**  \n",
        "- Real-world data comes in different forms: **images, videos, text, and audio**.  \n",
        "- These data types are naturally multi-dimensional (e.g., an image has height, width, and color channels).  \n",
        "- **Tensors handle multi-dimensional data seamlessly**, making them ideal for deep learning applications.  \n",
        "\n",
        "### **3. Tensors Support Advanced Mathematical Operations**  \n",
        "- Machine learning involves **complex mathematical functions** like:  \n",
        "  - Matrix multiplications  \n",
        "  - Dot products  \n",
        "  - Convolutions  \n",
        "  - Transformations  \n",
        "- Tensors have built-in support for these operations, making them essential for **neural networks and AI models**.  \n",
        "- Unlike regular arrays, tensors **allow automatic differentiation**, which is crucial for training models.  \n",
        "\n",
        "---\n"
      ],
      "metadata": {
        "id": "KAXonIQeFoxj"
      }
    },
    {
      "cell_type": "code",
      "source": [],
      "metadata": {
        "id": "KCyNnf9_FpHy"
      },
      "execution_count": null,
      "outputs": []
    },
    {
      "cell_type": "code",
      "source": [
        "# Lets' code\n",
        "\n",
        "# No need to install PyTorch as it is already pre-installed on your Colab book\n",
        "\n",
        "import torch\n",
        "\n",
        "print(torch.__version__)"
      ],
      "metadata": {
        "colab": {
          "base_uri": "https://localhost:8080/"
        },
        "id": "qGahLXu-NRD7",
        "outputId": "4989af2e-68fc-4047-a320-bdb6e7ab2cf1"
      },
      "execution_count": null,
      "outputs": [
        {
          "output_type": "stream",
          "name": "stdout",
          "text": [
            "2.6.0+cu124\n"
          ]
        }
      ]
    },
    {
      "cell_type": "code",
      "source": [],
      "metadata": {
        "id": "ENwZOLhtNRAY"
      },
      "execution_count": null,
      "outputs": []
    },
    {
      "cell_type": "markdown",
      "source": [
        "### Creating a Tensor"
      ],
      "metadata": {
        "id": "mGWnVho4NwEJ"
      }
    },
    {
      "cell_type": "code",
      "source": [
        "# isong a scaler\n",
        "\n",
        "A = torch.empty(2,4)"
      ],
      "metadata": {
        "id": "X2GOX9rQNyCU"
      },
      "execution_count": null,
      "outputs": []
    },
    {
      "cell_type": "code",
      "source": [
        "# check type\n",
        "type(A)"
      ],
      "metadata": {
        "colab": {
          "base_uri": "https://localhost:8080/"
        },
        "id": "XnCNkuEeN-TM",
        "outputId": "dd9240c5-42f1-436f-d3b6-d43c139da841"
      },
      "execution_count": null,
      "outputs": [
        {
          "output_type": "execute_result",
          "data": {
            "text/plain": [
              "torch.Tensor"
            ]
          },
          "metadata": {},
          "execution_count": 4
        }
      ]
    },
    {
      "cell_type": "code",
      "source": [
        "# Using zeros\n",
        "\n",
        "# creates a tensor filled with zeros\n",
        "\n",
        "### Initializing Weights & Biases in Neural Networks\n",
        "# In deep learning, models have weights and biases that need to be initialized before training.\n",
        "\n",
        "# Sometimes, initializing biases with zero values helps in maintaining uniformity.\n",
        "\n",
        "# Example: Bias vectors in neural networks are often initialized as zero tensors.\n",
        "\n",
        "torch.zeros(3,3)"
      ],
      "metadata": {
        "colab": {
          "base_uri": "https://localhost:8080/"
        },
        "id": "fgzeLJZOOI2z",
        "outputId": "b352fb8b-76fb-4b9b-8228-7fb138d788a3"
      },
      "execution_count": null,
      "outputs": [
        {
          "output_type": "execute_result",
          "data": {
            "text/plain": [
              "tensor([[0., 0., 0.],\n",
              "        [0., 0., 0.],\n",
              "        [0., 0., 0.]])"
            ]
          },
          "metadata": {},
          "execution_count": 5
        }
      ]
    },
    {
      "cell_type": "code",
      "source": [
        "# Using ones\n",
        "\n",
        "torch.ones(2,7)"
      ],
      "metadata": {
        "colab": {
          "base_uri": "https://localhost:8080/"
        },
        "id": "kj2mS69pOLYd",
        "outputId": "3bc1c6ae-2e5a-4a9f-da2d-e4c1ec596f01"
      },
      "execution_count": null,
      "outputs": [
        {
          "output_type": "execute_result",
          "data": {
            "text/plain": [
              "tensor([[1., 1., 1., 1., 1., 1., 1.],\n",
              "        [1., 1., 1., 1., 1., 1., 1.]])"
            ]
          },
          "metadata": {},
          "execution_count": 6
        }
      ]
    },
    {
      "cell_type": "code",
      "source": [
        "# Using rand\n",
        "\n",
        "# The values over here wont be consistent\n",
        "\n",
        "torch.rand(2,3)"
      ],
      "metadata": {
        "colab": {
          "base_uri": "https://localhost:8080/"
        },
        "id": "ULObOBz-OyIa",
        "outputId": "b30871d6-ff34-4802-845c-314cd588e0f9"
      },
      "execution_count": null,
      "outputs": [
        {
          "output_type": "execute_result",
          "data": {
            "text/plain": [
              "tensor([[0.5319, 0.6946, 0.7776],\n",
              "        [0.0654, 0.4336, 0.3366]])"
            ]
          },
          "metadata": {},
          "execution_count": 7
        }
      ]
    },
    {
      "cell_type": "code",
      "source": [
        "# Therefore,\n",
        "\n",
        "# Use of seed\n",
        "\n",
        "# Machine learning models often involve random processes, such as: Initializing weights in a neural network\n",
        "\n",
        "# If a model gives different results every time, debugging becomes difficult.\n",
        "\n",
        "# Setting `torch.manual_seed(100)` ensures that every run has the same random values, making it easier to track issues.\n",
        "\n",
        "torch.manual_seed(100)\n",
        "\n",
        "torch.rand(2,3)\n"
      ],
      "metadata": {
        "colab": {
          "base_uri": "https://localhost:8080/"
        },
        "id": "GN8Z3vIuO1zT",
        "outputId": "e714b3d7-7bcd-4ff7-cdda-af9e525f7a04"
      },
      "execution_count": null,
      "outputs": [
        {
          "output_type": "execute_result",
          "data": {
            "text/plain": [
              "tensor([[0.1117, 0.8158, 0.2626],\n",
              "        [0.4839, 0.6765, 0.7539]])"
            ]
          },
          "metadata": {},
          "execution_count": 8
        }
      ]
    },
    {
      "cell_type": "code",
      "source": [
        "### Assigning dtypes to tensor\n",
        "\n",
        "torch.tensor([1.0, 2.0, 3.0], dtype = int)"
      ],
      "metadata": {
        "colab": {
          "base_uri": "https://localhost:8080/"
        },
        "id": "dybEvytjPIWn",
        "outputId": "cdba290c-8ac8-43b2-b580-9a3d7c5d7e24"
      },
      "execution_count": null,
      "outputs": [
        {
          "output_type": "execute_result",
          "data": {
            "text/plain": [
              "tensor([1, 2, 3])"
            ]
          },
          "metadata": {},
          "execution_count": 9
        }
      ]
    },
    {
      "cell_type": "code",
      "source": [
        "## Similary\n",
        "\n",
        "torch.tensor([1.0, 2.0, 3.0], dtype = float)"
      ],
      "metadata": {
        "colab": {
          "base_uri": "https://localhost:8080/"
        },
        "id": "i_2scmlMXCw-",
        "outputId": "dd20fe46-cb45-417e-befe-54f850562d1f"
      },
      "execution_count": null,
      "outputs": [
        {
          "output_type": "execute_result",
          "data": {
            "text/plain": [
              "tensor([1., 2., 3.], dtype=torch.float64)"
            ]
          },
          "metadata": {},
          "execution_count": 10
        }
      ]
    },
    {
      "cell_type": "markdown",
      "source": [
        "### Let's perform some operations on our Tensor"
      ],
      "metadata": {
        "id": "hDdaJU3GYbSM"
      }
    },
    {
      "cell_type": "code",
      "source": [
        "X = torch.tensor([[1,2,3],[4,5,6]])\n",
        "X"
      ],
      "metadata": {
        "colab": {
          "base_uri": "https://localhost:8080/"
        },
        "id": "t_XB-jJiXR0V",
        "outputId": "b2e7ea0b-6b8e-4103-d5c7-1903ba1593fc"
      },
      "execution_count": null,
      "outputs": [
        {
          "output_type": "execute_result",
          "data": {
            "text/plain": [
              "tensor([[1, 2, 3],\n",
              "        [4, 5, 6]])"
            ]
          },
          "metadata": {},
          "execution_count": 11
        }
      ]
    },
    {
      "cell_type": "code",
      "source": [
        "type(X)"
      ],
      "metadata": {
        "colab": {
          "base_uri": "https://localhost:8080/"
        },
        "id": "tydLI1fOYP9k",
        "outputId": "39cbb5e0-2d96-4113-f4d1-beb1ec5f5785"
      },
      "execution_count": null,
      "outputs": [
        {
          "output_type": "execute_result",
          "data": {
            "text/plain": [
              "torch.Tensor"
            ]
          },
          "metadata": {},
          "execution_count": 12
        }
      ]
    },
    {
      "cell_type": "code",
      "source": [
        "X.shape"
      ],
      "metadata": {
        "colab": {
          "base_uri": "https://localhost:8080/"
        },
        "id": "VLHZdiGQYVm3",
        "outputId": "edcca943-d488-4a4c-df24-e47e3dc5c326"
      },
      "execution_count": null,
      "outputs": [
        {
          "output_type": "execute_result",
          "data": {
            "text/plain": [
              "torch.Size([2, 3])"
            ]
          },
          "metadata": {},
          "execution_count": 13
        }
      ]
    },
    {
      "cell_type": "code",
      "source": [
        "X.ndim"
      ],
      "metadata": {
        "colab": {
          "base_uri": "https://localhost:8080/"
        },
        "id": "6aoF4DMvYXMT",
        "outputId": "0060bd95-ba4e-42d1-93ef-070eef9a0542"
      },
      "execution_count": null,
      "outputs": [
        {
          "output_type": "execute_result",
          "data": {
            "text/plain": [
              "2"
            ]
          },
          "metadata": {},
          "execution_count": 14
        }
      ]
    },
    {
      "cell_type": "code",
      "source": [
        "# Addition\n",
        "X_add = X + 2\n",
        "# OR\n",
        "X_add = torch.add(X, 2)\n",
        "\n",
        "print(X_add)"
      ],
      "metadata": {
        "colab": {
          "base_uri": "https://localhost:8080/"
        },
        "id": "4BWwnkXJZAE0",
        "outputId": "a864cb5e-3dbb-4d7d-86f8-2178e2a90e3d"
      },
      "execution_count": null,
      "outputs": [
        {
          "output_type": "stream",
          "name": "stdout",
          "text": [
            "tensor([[3, 4, 5],\n",
            "        [6, 7, 8]])\n"
          ]
        }
      ]
    },
    {
      "cell_type": "code",
      "source": [
        "# Subtraction\n",
        "X_sub = X - 1\n",
        "# OR\n",
        "X_sub = torch.sub(X, 1)\n",
        "\n",
        "print(X_sub)"
      ],
      "metadata": {
        "colab": {
          "base_uri": "https://localhost:8080/"
        },
        "id": "qiYttmv3ZASI",
        "outputId": "cdb812f1-cb7b-488f-8660-70f25db156c7"
      },
      "execution_count": null,
      "outputs": [
        {
          "output_type": "stream",
          "name": "stdout",
          "text": [
            "tensor([[0, 1, 2],\n",
            "        [3, 4, 5]])\n"
          ]
        }
      ]
    },
    {
      "cell_type": "code",
      "source": [
        "# Multiplying each element by 3\n",
        "X_mul = X * 3\n",
        "# OR\n",
        "X_mul = torch.mul(X, 3)\n",
        "\n",
        "print(X_mul)"
      ],
      "metadata": {
        "colab": {
          "base_uri": "https://localhost:8080/"
        },
        "id": "GuG3ICB0ZK8d",
        "outputId": "e61b1ada-73f0-4570-969f-7e594aa1d07e"
      },
      "execution_count": null,
      "outputs": [
        {
          "output_type": "stream",
          "name": "stdout",
          "text": [
            "tensor([[ 3,  6,  9],\n",
            "        [12, 15, 18]])\n"
          ]
        }
      ]
    },
    {
      "cell_type": "code",
      "source": [
        "# Dividing each element by 2\n",
        "X_div = X / 2\n",
        "# OR\n",
        "X_div = torch.div(X, 2)\n",
        "\n",
        "print(X_div)"
      ],
      "metadata": {
        "colab": {
          "base_uri": "https://localhost:8080/"
        },
        "id": "-dIQrLPzZNCK",
        "outputId": "a0a9edf9-57a1-4a55-f394-94ccff273c82"
      },
      "execution_count": null,
      "outputs": [
        {
          "output_type": "stream",
          "name": "stdout",
          "text": [
            "tensor([[0.5000, 1.0000, 1.5000],\n",
            "        [2.0000, 2.5000, 3.0000]])\n"
          ]
        }
      ]
    },
    {
      "cell_type": "code",
      "source": [
        "# Squaring each element\n",
        "X_pow = X ** 2\n",
        "# OR\n",
        "X_pow = torch.pow(X, 2)\n",
        "\n",
        "print(X_pow)"
      ],
      "metadata": {
        "colab": {
          "base_uri": "https://localhost:8080/"
        },
        "id": "soD7EYhOZPR_",
        "outputId": "b67df661-0949-47ea-c981-6f5d29980530"
      },
      "execution_count": null,
      "outputs": [
        {
          "output_type": "stream",
          "name": "stdout",
          "text": [
            "tensor([[ 1,  4,  9],\n",
            "        [16, 25, 36]])\n"
          ]
        }
      ]
    },
    {
      "cell_type": "code",
      "source": [
        "## Matrix Multiplicaton - matmul()\n",
        "\n",
        "Y = torch.tensor([[1, 2], [3, 4], [5, 6]])\n",
        "X_matmul = torch.matmul(X, Y)  # OR X @ Y\n",
        "\n",
        "print(X_matmul)"
      ],
      "metadata": {
        "colab": {
          "base_uri": "https://localhost:8080/"
        },
        "id": "hCkkJbdiZSR9",
        "outputId": "e7e15279-1cb7-4714-d451-2445468cb6ad"
      },
      "execution_count": null,
      "outputs": [
        {
          "output_type": "stream",
          "name": "stdout",
          "text": [
            "tensor([[22, 28],\n",
            "        [49, 64]])\n"
          ]
        }
      ]
    },
    {
      "cell_type": "code",
      "source": [],
      "metadata": {
        "id": "g6V_no0kajRM"
      },
      "execution_count": null,
      "outputs": []
    },
    {
      "cell_type": "code",
      "source": [
        "X"
      ],
      "metadata": {
        "colab": {
          "base_uri": "https://localhost:8080/"
        },
        "id": "G1iqWdDXZkdm",
        "outputId": "68fd1314-9840-40cf-cfab-ec44f383a63e"
      },
      "execution_count": null,
      "outputs": [
        {
          "output_type": "execute_result",
          "data": {
            "text/plain": [
              "tensor([[1, 2, 3],\n",
              "        [4, 5, 6]])"
            ]
          },
          "metadata": {},
          "execution_count": 21
        }
      ]
    },
    {
      "cell_type": "code",
      "source": [
        "## Abs - Absolute value of a tensor\n",
        "\n",
        "## Gives all positive values\n",
        "\n",
        "abs_tensor = torch.tensor([1,-2,4,6])\n",
        "\n",
        "torch.abs(abs_tensor)"
      ],
      "metadata": {
        "colab": {
          "base_uri": "https://localhost:8080/"
        },
        "id": "dBIYfkbeabc8",
        "outputId": "1555fb2e-a706-4ab4-c445-4e4c82b2c83e"
      },
      "execution_count": null,
      "outputs": [
        {
          "output_type": "execute_result",
          "data": {
            "text/plain": [
              "tensor([1, 2, 4, 6])"
            ]
          },
          "metadata": {},
          "execution_count": 22
        }
      ]
    },
    {
      "cell_type": "code",
      "source": [
        "X = X.to(torch.float)\n",
        "\n",
        "torch.mean(X)"
      ],
      "metadata": {
        "colab": {
          "base_uri": "https://localhost:8080/"
        },
        "id": "I33FUNwNagkp",
        "outputId": "d3ddea72-4d02-4f6e-c389-0e5e6649c582"
      },
      "execution_count": null,
      "outputs": [
        {
          "output_type": "execute_result",
          "data": {
            "text/plain": [
              "tensor(3.5000)"
            ]
          },
          "metadata": {},
          "execution_count": 23
        }
      ]
    },
    {
      "cell_type": "code",
      "source": [
        "torch.median(X)"
      ],
      "metadata": {
        "colab": {
          "base_uri": "https://localhost:8080/"
        },
        "id": "FxuxmM-xg3-p",
        "outputId": "82ee3509-c638-4489-805f-86aec4605e42"
      },
      "execution_count": null,
      "outputs": [
        {
          "output_type": "execute_result",
          "data": {
            "text/plain": [
              "tensor(3.)"
            ]
          },
          "metadata": {},
          "execution_count": 24
        }
      ]
    },
    {
      "cell_type": "code",
      "source": [
        "# max\n",
        "torch.max(X)"
      ],
      "metadata": {
        "colab": {
          "base_uri": "https://localhost:8080/"
        },
        "id": "4oOk51vjhSJ3",
        "outputId": "311aaa68-7511-4433-c15c-a6f281c6ca5f"
      },
      "execution_count": null,
      "outputs": [
        {
          "output_type": "execute_result",
          "data": {
            "text/plain": [
              "tensor(6.)"
            ]
          },
          "metadata": {},
          "execution_count": 25
        }
      ]
    },
    {
      "cell_type": "code",
      "source": [
        "# min\n",
        "torch.min(X)"
      ],
      "metadata": {
        "colab": {
          "base_uri": "https://localhost:8080/"
        },
        "id": "ke_Ok21ohUfq",
        "outputId": "29ce550e-82a4-40f2-8930-1b465a56d735"
      },
      "execution_count": null,
      "outputs": [
        {
          "output_type": "execute_result",
          "data": {
            "text/plain": [
              "tensor(1.)"
            ]
          },
          "metadata": {},
          "execution_count": 26
        }
      ]
    },
    {
      "cell_type": "code",
      "source": [
        "# product\n",
        "\n",
        "torch.prod(X)"
      ],
      "metadata": {
        "colab": {
          "base_uri": "https://localhost:8080/"
        },
        "id": "iRZq2di1hV4a",
        "outputId": "1f9fb3f7-379a-4289-bd0a-dac480ee679c"
      },
      "execution_count": null,
      "outputs": [
        {
          "output_type": "execute_result",
          "data": {
            "text/plain": [
              "tensor(720.)"
            ]
          },
          "metadata": {},
          "execution_count": 27
        }
      ]
    },
    {
      "cell_type": "code",
      "source": [
        "# Standard deviation\n",
        "torch.std(X)"
      ],
      "metadata": {
        "colab": {
          "base_uri": "https://localhost:8080/"
        },
        "id": "dXKnGoyIhfmx",
        "outputId": "fa39382f-abb5-494e-f098-4f232ca3936d"
      },
      "execution_count": null,
      "outputs": [
        {
          "output_type": "execute_result",
          "data": {
            "text/plain": [
              "tensor(1.8708)"
            ]
          },
          "metadata": {},
          "execution_count": 28
        }
      ]
    },
    {
      "cell_type": "code",
      "source": [
        "# Variance\n",
        "torch.var(X)"
      ],
      "metadata": {
        "colab": {
          "base_uri": "https://localhost:8080/"
        },
        "id": "7GrjCxNnhkBF",
        "outputId": "dd97b09d-7f12-4312-a537-1d740485d0c2"
      },
      "execution_count": null,
      "outputs": [
        {
          "output_type": "execute_result",
          "data": {
            "text/plain": [
              "tensor(3.5000)"
            ]
          },
          "metadata": {},
          "execution_count": 29
        }
      ]
    },
    {
      "cell_type": "code",
      "source": [
        "# Argmax\n",
        "# Returns the index of the maximum value in the tensor\n",
        "\n",
        "torch.argmax(X)"
      ],
      "metadata": {
        "colab": {
          "base_uri": "https://localhost:8080/"
        },
        "id": "xrukxkXVhoIm",
        "outputId": "c5d1613d-c5fa-4cb7-c7bc-f0403f81d479"
      },
      "execution_count": null,
      "outputs": [
        {
          "output_type": "execute_result",
          "data": {
            "text/plain": [
              "tensor(5)"
            ]
          },
          "metadata": {},
          "execution_count": 30
        }
      ]
    },
    {
      "cell_type": "code",
      "source": [
        "# Argmin\n",
        "torch.argmin(X)"
      ],
      "metadata": {
        "colab": {
          "base_uri": "https://localhost:8080/"
        },
        "id": "2Mc3AzjZhwx_",
        "outputId": "8bc6c410-aeb3-41f5-cfb1-8ac467befe67"
      },
      "execution_count": null,
      "outputs": [
        {
          "output_type": "execute_result",
          "data": {
            "text/plain": [
              "tensor(0)"
            ]
          },
          "metadata": {},
          "execution_count": 31
        }
      ]
    },
    {
      "cell_type": "code",
      "source": [],
      "metadata": {
        "id": "wbI-TzWDh1jj"
      },
      "execution_count": null,
      "outputs": []
    },
    {
      "cell_type": "code",
      "source": [
        "A = torch.tensor([1,2,3])\n",
        "B = torch.tensor([4,5,6])"
      ],
      "metadata": {
        "id": "X4Tn9zG7iHWS"
      },
      "execution_count": null,
      "outputs": []
    },
    {
      "cell_type": "code",
      "source": [
        "# Matrix Multiplication\n",
        "torch.matmul(A,B)"
      ],
      "metadata": {
        "colab": {
          "base_uri": "https://localhost:8080/"
        },
        "id": "21WhgtxgiiVs",
        "outputId": "e2f25385-8f99-4eb9-996b-049637ca37c7"
      },
      "execution_count": null,
      "outputs": [
        {
          "output_type": "execute_result",
          "data": {
            "text/plain": [
              "tensor(32)"
            ]
          },
          "metadata": {},
          "execution_count": 33
        }
      ]
    },
    {
      "cell_type": "code",
      "source": [
        "# dot product\n",
        "torch.dot(A,B)"
      ],
      "metadata": {
        "colab": {
          "base_uri": "https://localhost:8080/"
        },
        "id": "EyZk56GripeM",
        "outputId": "7a9e5790-d919-4ee9-b193-8d1ed2799c44"
      },
      "execution_count": null,
      "outputs": [
        {
          "output_type": "execute_result",
          "data": {
            "text/plain": [
              "tensor(32)"
            ]
          },
          "metadata": {},
          "execution_count": 34
        }
      ]
    },
    {
      "cell_type": "code",
      "source": [
        "X"
      ],
      "metadata": {
        "colab": {
          "base_uri": "https://localhost:8080/"
        },
        "id": "_4ij0fH9j-U-",
        "outputId": "90abe2d0-5418-4005-9843-99bd30d8e376"
      },
      "execution_count": null,
      "outputs": [
        {
          "output_type": "execute_result",
          "data": {
            "text/plain": [
              "tensor([[1., 2., 3.],\n",
              "        [4., 5., 6.]])"
            ]
          },
          "metadata": {},
          "execution_count": 35
        }
      ]
    },
    {
      "cell_type": "code",
      "source": [
        "# Transpose\n",
        "X_transposed = X.transpose(0,1)  # Swaps rows and columns with each other\n",
        "X_transposed"
      ],
      "metadata": {
        "colab": {
          "base_uri": "https://localhost:8080/"
        },
        "id": "E5O3oT5vi8aM",
        "outputId": "084b13bc-cdaf-4a10-8d60-aca8b646fcc7"
      },
      "execution_count": null,
      "outputs": [
        {
          "output_type": "execute_result",
          "data": {
            "text/plain": [
              "tensor([[1., 4.],\n",
              "        [2., 5.],\n",
              "        [3., 6.]])"
            ]
          },
          "metadata": {},
          "execution_count": 36
        }
      ]
    },
    {
      "cell_type": "code",
      "source": [
        "### Inverse\n",
        "\n",
        "### The inverse of a matrix is like the \"opposite\" of the matrix. When you multiply a matrix by its inverse,\n",
        "### you get a special matrix called the identity matrix (which has 1s on the diagonal and 0s everywhere else).\n",
        "\n",
        "### Also, note for a matrix to have an inverse, it must be square, meaning it should have the same number of rows and columns"
      ],
      "metadata": {
        "id": "ODGazosjkQN5"
      },
      "execution_count": null,
      "outputs": []
    },
    {
      "cell_type": "markdown",
      "source": [
        "Formula for Inverse of a mtrix:\n",
        "$$ A \\times A^{-1} = I $$"
      ],
      "metadata": {
        "id": "LWA23rswf3YR"
      }
    },
    {
      "cell_type": "code",
      "source": [
        "torch.manual_seed(100)\n",
        "\n",
        "M  = torch.rand(3,3)\n",
        "\n",
        "inverse_matrix = torch.inverse(M)\n",
        "\n",
        "inverse_matrix"
      ],
      "metadata": {
        "colab": {
          "base_uri": "https://localhost:8080/"
        },
        "id": "9zyB5fPlf2sM",
        "outputId": "5a2cf68f-832f-4117-e795-66bd49948303"
      },
      "execution_count": null,
      "outputs": [
        {
          "output_type": "execute_result",
          "data": {
            "text/plain": [
              "tensor([[ 2.1540, -3.1479,  8.6896],\n",
              "        [ 1.9345, -0.9087,  0.8514],\n",
              "        [-3.1183,  4.1622, -6.3412]])"
            ]
          },
          "metadata": {},
          "execution_count": 41
        }
      ]
    },
    {
      "cell_type": "code",
      "source": [],
      "metadata": {
        "id": "29KV4EbKsPTH"
      },
      "execution_count": null,
      "outputs": []
    },
    {
      "cell_type": "code",
      "source": [],
      "metadata": {
        "id": "CXk0aoHusQF4"
      },
      "execution_count": null,
      "outputs": []
    },
    {
      "cell_type": "markdown",
      "source": [
        "##  How Fast is GPU Compared to CPU?"
      ],
      "metadata": {
        "id": "gOCRE1HNsvFJ"
      }
    },
    {
      "cell_type": "code",
      "source": [
        "import torch\n",
        "import time\n",
        "\n",
        "# Define matrix size\n",
        "size = 10000\n",
        "\n",
        "# Create two large tensors on CPU\n",
        "A = torch.randn(size, size)\n",
        "B = torch.randn(size, size)\n",
        "\n",
        "# Measure time on CPU\n",
        "start_cpu = time.time()\n",
        "C_cpu = torch.matmul(A, B)  # Matrix multiplication on CPU\n",
        "end_cpu = time.time()\n",
        "\n",
        "# Move tensors to GPU\n",
        "A_gpu = A.to(\"cuda\")\n",
        "B_gpu = B.to(\"cuda\")\n",
        "\n",
        "# Measure time on GPU\n",
        "start_gpu = time.time()\n",
        "C_gpu = torch.matmul(A_gpu, B_gpu)  # Matrix multiplication on GPU\n",
        "end_gpu = time.time()\n",
        "\n",
        "# Print time taken\n",
        "print(f\"CPU Time: {end_cpu - start_cpu:.4f} seconds\")\n",
        "print(f\"GPU Time: {end_gpu - start_gpu:.4f} seconds\")\n"
      ],
      "metadata": {
        "colab": {
          "base_uri": "https://localhost:8080/"
        },
        "id": "fUxArGPbgGVm",
        "outputId": "40348846-b8fe-42e5-cecc-daf6becd8d9b"
      },
      "execution_count": null,
      "outputs": [
        {
          "output_type": "stream",
          "name": "stdout",
          "text": [
            "CPU Time: 20.5405 seconds\n",
            "GPU Time: 0.1294 seconds\n"
          ]
        }
      ]
    },
    {
      "cell_type": "code",
      "source": [],
      "metadata": {
        "id": "g-NlAb-esALC"
      },
      "execution_count": null,
      "outputs": []
    }
  ]
}